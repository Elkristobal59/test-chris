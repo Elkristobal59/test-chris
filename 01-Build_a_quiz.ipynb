{
 "cells": [
  {
   "cell_type": "markdown",
   "metadata": {
    "colab_type": "text",
    "id": "FY347VxWs_bJ"
   },
   "source": [
    "# Build a quizz\n",
    "\n",
    "---\n",
    "\n",
    "\n"
   ]
  },
  {
   "cell_type": "markdown",
   "metadata": {
    "colab_type": "text",
    "id": "qJizpyqVwYnF"
   },
   "source": [
    "Let's tackle our first project together. Find a partner and start coding a quiz together! Your program should: \n",
    "\n",
    "1. Ask a question to a user via the console \n",
    "2. Verify whether the answer is correct or not \n",
    "3. If the answer is correct, you should print out: `Good job! This is the right answer`\n",
    "\n",
    "* Else, it should print out : `Too bad! that is not the correct answer`\n",
    "\n",
    "4. Ask three questions following this model.\n",
    "\n"
   ]
  },
  {
   "cell_type": "code",
   "execution_count": null,
   "metadata": {
    "colab": {
     "base_uri": "https://localhost:8080/",
     "height": 136
    },
    "colab_type": "code",
    "id": "EQxWuVl7yFoU",
    "outputId": "cf3ee10c-9d8f-4d96-82b0-f730321d4a2f"
   },
   "outputs": [
    {
     "name": "stdout",
     "output_type": "stream",
     "text": [
      "Here you have our quiz !\n",
      "\n",
      "-------\n",
      "Your answer : 3\n",
      "Too bad! That is not the correct answer\n",
      "Your answer : 2\n",
      "Too bad! That is not the correct answer\n",
      "Your answer : ELON MUSK\n",
      "Your answer after .lower() function : elon musk\n",
      "Good job! This is the right answer\n"
     ]
    }
   ],
   "source": [
    "print(\"Here you have our quiz !\")\n",
    "\n",
    "print(\"\\n-------\")\n",
    "\n",
    "question_1 = \"Quelle est la racine carré de 4 ? \"\n",
    "reponse_1 = \"2\"\n",
    "\n",
    "\n",
    "reponse_utilisateur_1 = input(question_1)\n",
    "print(f\"Your answer : {reponse_utilisateur_1}\")\n",
    "\n",
    "\n",
    "if reponse_utilisateur_1.lower() == reponse_1:\n",
    "    print(\"Good job! This is the right answer\")\n",
    "else:\n",
    "    print(\"Too bad! That is not the correct answer\")\n",
    "\n",
    "\n",
    "\n",
    "question_2 = \"Combien de côtés a un triangle ? \"\n",
    "reponse_2 = \"3\"\n",
    "\n",
    "\n",
    "reponse_utilisateur_2 = input(question_2)\n",
    "print(f\"Your answer : {reponse_utilisateur_2}\")\n",
    "\n",
    "\n",
    "if reponse_utilisateur_2 == reponse_2:\n",
    "    print(\"Good job! This is the right answer\")\n",
    "else:\n",
    "    print(\"Too bad! That is not the correct answer\")\n",
    "\n",
    "\n",
    "question_3 = \"Quel est le nom du créateur dE TESLA? \"\n",
    "reponse_3 = \"elon musk\"\n",
    "\n",
    "\n",
    "reponse_utilisateur_3 = input(question_3)\n",
    "reponse_utilisateur_3_lower = reponse_utilisateur_3.lower()\n",
    "print(f\"Your answer : {reponse_utilisateur_3}\")\n",
    "\n",
    "print(f\"Your answer after .lower() function : {reponse_utilisateur_3_lower}\")\n",
    "\n",
    "if reponse_utilisateur_3_lower == reponse_3:\n",
    "    print(\"Good job! This is the right answer\")\n",
    "else:\n",
    "    print(\"Too bad! That is not the correct answer\")\n",
    "\n"
   ]
  },
  {
   "cell_type": "markdown",
   "metadata": {
    "colab_type": "text",
    "id": "sLMbYgaOyxiX"
   },
   "source": [
    "There's a problem with our quizz : if the user has not given the right answer, the program goes to next question. We would rather like to ask again the same question if the answer was wrong.\n",
    "\n",
    "5. Using a `while` loop, make sure that the same question will be asked again when the answer was wrong\n",
    "\n",
    "6. Rewrite your code such that this behaviour is applied to all questions."
   ]
  },
  {
   "cell_type": "markdown",
   "metadata": {
    "colab_type": "text",
    "id": "nh4voWn8x3dM"
   },
   "source": [
    "Now, we would like to tackle a last problem : we want to allow only 3 wrong answers (among all questions).\n",
    "\n",
    "7. Improve your code : if the user makes 3 wrong answers, the program should stop and print (\"Too bad, you lost the game !\")\n"
   ]
  },
  {
   "cell_type": "code",
   "execution_count": null,
   "metadata": {
    "colab": {},
    "colab_type": "code",
    "id": "rA-XJKh-orgc"
   },
   "outputs": [
    {
     "name": "stdout",
     "output_type": "stream",
     "text": [
      "Here you have our quiz !\n",
      "\n",
      "-------\n",
      "Your answer : 2\n",
      "Your answer : 1976\n",
      "Your answer : elon musk\n",
      "\n",
      "-------\n",
      "Congratulations! You have completed the quiz!\n"
     ]
    }
   ],
   "source": [
    "print(\"Here you have our quiz !\")\n",
    "\n",
    "print(\"\\n-------\")\n",
    "\n",
    "question_1 = \"Quelle est la racine carré de 4 ? \"\n",
    "reponse_1 = \"2\"\n",
    "\n",
    "reponse_utilisateur_1 = input(question_1)\n",
    "\n",
    "print(f\"Your answer : {reponse_utilisateur_1}\")\n",
    "\n",
    "while reponse_utilisateur_1 != reponse_1:\n",
    "    print(\"Too bad! That is not the correct answer\") \n",
    "    reponse_utilisateur_1 = input(question_1) \n",
    "    print(f\"Your answer : {reponse_utilisateur_1}\")\n",
    "    \n",
    "    if reponse_utilisateur_1 == reponse_1:\n",
    "        print(\"Good job! This is the right answer\") \n",
    "   \n",
    "\n",
    "\n",
    "\n",
    "question_2 = \"Année de création d'Apple ? \"\n",
    "reponse_2 = \"1976\"\n",
    "\n",
    "reponse_utilisateur_2 = input(question_2)\n",
    "print(f\"Your answer : {reponse_utilisateur_2}\")\n",
    "while reponse_utilisateur_2 != reponse_2:\n",
    "    print(\"Too bad! That is not the correct answer\") \n",
    "    reponse_utilisateur_2 = input(question_2) \n",
    "    print(f\"Your answer : {reponse_utilisateur_2}\")\n",
    "\n",
    "    if reponse_utilisateur_2 == reponse_2:\n",
    "        print(\"Good job! This is the right answer\") \n",
    "   \n",
    "\n",
    "\n",
    "\n",
    "question_3 = \"Quel est le nom du créateur de TESLA? \"\n",
    "reponse_3 = \"elon musk\"\n",
    "\n",
    "reponse_utilisateur_3 = input(question_3)\n",
    "reponse_utilisateur_3_lower = reponse_utilisateur_3.lower()\n",
    "print(f\"Your answer : {reponse_utilisateur_3_lower}\")   \n",
    "\n",
    "while reponse_utilisateur_3_lower != reponse_3:\n",
    "    print(\"Too bad! That is not the correct answer\")\n",
    "    reponse_utilisateur_3 = input(question_3)\n",
    "\n",
    "    reponse_utilisateur_3_lower = reponse_utilisateur_3.lower()\n",
    "    print(f\"Your answer : {reponse_utilisateur_3_lower}\")\n",
    "\n",
    "    if reponse_utilisateur_3_lower == reponse_3:\n",
    "        print(\"Good job! This is the right answer\")\n",
    "   \n",
    "print(\"\\n-------\")\n",
    "print(\"Congratulations! You have completed the quiz!\")\n"
   ]
  },
  {
   "cell_type": "code",
   "execution_count": null,
   "metadata": {},
   "outputs": [
    {
     "name": "stdout",
     "output_type": "stream",
     "text": [
      "Here you have our quiz !\n",
      "\n",
      "-------\n",
      "Question 1 : Quelle est la racine carré de 4 ? \n"
     ]
    }
   ],
   "source": [
    "print(\"Here you have our quiz !\")\n",
    "print(\"\\n-------\")\n",
    "\n",
    "# --- Question 1 ---\n",
    "question_1 = \"Quelle est la racine carré de 4 ? \"\n",
    "reponse_1 = \"2\"\n",
    "tentatives = 0\n",
    "max_tentatives = 3\n",
    "\n",
    "\n",
    "print(f\"Question 1 : {question_1}\")\n",
    "\n",
    "while tentatives < max_tentatives:\n",
    "    # 1. On demande la réponse et on compte l'essai\n",
    "    reponse_utilisateur_1 = input(f\"Tentative {tentatives + 1}/{max_tentatives}. Votre réponse : \")\n",
    "    print(f\"Your answer : {reponse_utilisateur_1}\")\n",
    "    \n",
    "    # 2. Vérification de la réponse\n",
    "    if reponse_utilisateur_1 == reponse_1:\n",
    "        print(\"Good job! This is the right answer\")\n",
    "        break  # Sort de la boucle si la réponse est correcte\n",
    "    else:\n",
    "        print(\"Too bad! That is not the correct answer\")\n",
    "        tentatives += 1  # Incrémente le compteur seulement si la réponse est fausse\n",
    "\n",
    "# Message si le joueur a échoué (uniquement si le compteur est à 3)\n",
    "if tentatives == max_tentatives and reponse_utilisateur_1 != reponse_1:\n",
    "    print(f\"Dommage ! La bonne réponse était {reponse_1}.\")\n",
    "\n",
    "\n",
    "# --- Question 2 ---\n",
    "print(\"\\n-------\")\n",
    "question_2 = \"Année de création d'Apple ? \"\n",
    "reponse_2 = \"1976\"\n",
    "tentatives = 0\n",
    "max_tentatives = 3\n",
    "\n",
    "print(f\"Question 2 : {question_2}\")\n",
    "\n",
    "while tentatives < max_tentatives:\n",
    "    reponse_utilisateur_2 = input(f\"Tentative {tentatives + 1}/{max_tentatives}. Votre réponse : \")\n",
    "    print(f\"Your answer : {reponse_utilisateur_2}\")\n",
    "\n",
    "    if reponse_utilisateur_2 == reponse_2:\n",
    "        print(\"Good job! This is the right answer\")\n",
    "        break\n",
    "    else:\n",
    "        print(\"Too bad! That is not the correct answer\")\n",
    "        tentatives += 1\n",
    "\n",
    "if tentatives == max_tentatives and reponse_utilisateur_2 != reponse_2:\n",
    "    print(f\"Dommage ! La bonne réponse était {reponse_2}.\")\n",
    "\n",
    "\n",
    "# --- Question 3 ---\n",
    "\n",
    "print(\"\\n-------\")\n",
    "question_3 = \"Quel est le nom du créateur principal de TESLA? \"\n",
    "reponse_3 = \"elon musk\"\n",
    "tentatives = 0\n",
    "max_tentatives = 3\n",
    "\n",
    "print(f\"Question 3 : {question_3}\")\n",
    "\n",
    "while tentatives < max_tentatives:\n",
    "    reponse_utilisateur_3 = input(f\"Tentative {tentatives + 1}/{max_tentatives}. Votre réponse : \")\n",
    "    reponse_utilisateur_3_lower = reponse_utilisateur_3.lower()\n",
    "    print(f\"Your answer : {reponse_utilisateur_3_lower}\")\n",
    "\n",
    "    # Vérification avec .lower() et OR pour deux réponses possibles\n",
    "    if reponse_utilisateur_3_lower == reponse_3:\n",
    "        print(\"Good job! This is the right answer\")\n",
    "        break\n",
    "    else:\n",
    "        print(\"Too bad! That is not the correct answer\")\n",
    "        tentatives += 1\n",
    "\n",
    "if tentatives == max_tentatives and reponse_utilisateur_3_lower != reponse_3:\n",
    "    print(f\"Dommage ! La bonne réponse était {reponse_3}.\")\n",
    "\n",
    "print(\"\\n-------\")\n",
    "print(\"Congratulations! You have completed the quiz!\")"
   ]
  }
 ],
 "metadata": {
  "colab": {
   "name": "Construire un quiz - SOLUTIONS S1-1A.ipynb",
   "provenance": []
  },
  "kernelspec": {
   "display_name": "base",
   "language": "python",
   "name": "python3"
  },
  "language_info": {
   "codemirror_mode": {
    "name": "ipython",
    "version": 3
   },
   "file_extension": ".py",
   "mimetype": "text/x-python",
   "name": "python",
   "nbconvert_exporter": "python",
   "pygments_lexer": "ipython3",
   "version": "3.12.7"
  }
 },
 "nbformat": 4,
 "nbformat_minor": 1
}
